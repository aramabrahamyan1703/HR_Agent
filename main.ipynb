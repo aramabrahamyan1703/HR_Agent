{
 "cells": [],
 "metadata": {
  "kernelspec": {
   "display_name": "HR_Agent-BsNrMpUH",
   "language": "python",
   "name": "python3"
  },
  "language_info": {
   "name": "python",
   "version": "3.13.7"
  }
 },
 "nbformat": 4,
 "nbformat_minor": 2
}
